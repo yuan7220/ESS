{
  "nbformat": 4,
  "nbformat_minor": 0,
  "metadata": {
    "colab": {
      "provenance": [],
      "machine_shape": "hm",
      "gpuType": "L4",
      "authorship_tag": "ABX9TyOekLXrh6YLp2j97KLT+UP7",
      "include_colab_link": true
    },
    "kernelspec": {
      "name": "python3",
      "display_name": "Python 3"
    },
    "language_info": {
      "name": "python"
    },
    "accelerator": "GPU"
  },
  "cells": [
    {
      "cell_type": "markdown",
      "metadata": {
        "id": "view-in-github",
        "colab_type": "text"
      },
      "source": [
        "<a href=\"https://colab.research.google.com/github/yuan7220/ESS/blob/main/ESS_Ex1.ipynb\" target=\"_parent\"><img src=\"https://colab.research.google.com/assets/colab-badge.svg\" alt=\"Open In Colab\"/></a>"
      ]
    },
    {
      "cell_type": "code",
      "execution_count": null,
      "metadata": {
        "id": "PGIelvSDEquI"
      },
      "outputs": [],
      "source": [
        "!nvidia-smi"
      ]
    },
    {
      "cell_type": "code",
      "source": [
        "!pip install segment-geospatial"
      ],
      "metadata": {
        "collapsed": true,
        "id": "i-isNa3sH7-k"
      },
      "execution_count": null,
      "outputs": []
    },
    {
      "cell_type": "code",
      "source": [
        "import os\n",
        "import geopandas as gpd\n",
        "import leafmap\n",
        "from samgeo import SamGeo, show_image, download_file, overlay_images, tms_to_geotiff"
      ],
      "metadata": {
        "id": "O7D1N0MPVsaF"
      },
      "execution_count": null,
      "outputs": []
    },
    {
      "cell_type": "code",
      "source": [
        "dallas = gpd.read_file('/content/Council_Boundaries.shp')"
      ],
      "metadata": {
        "id": "DNnt9RllLvcj"
      },
      "execution_count": null,
      "outputs": []
    },
    {
      "cell_type": "code",
      "source": [
        "dallas"
      ],
      "metadata": {
        "collapsed": true,
        "id": "rp8z9xNMNB97"
      },
      "execution_count": null,
      "outputs": []
    },
    {
      "cell_type": "code",
      "source": [
        "dallas.plot()"
      ],
      "metadata": {
        "collapsed": true,
        "id": "FCtfKbZeOC0T"
      },
      "execution_count": null,
      "outputs": []
    },
    {
      "cell_type": "code",
      "source": [
        "m = leafmap.Map(center=[32.776, -96.797],\n",
        "                zoom=10,\n",
        "                layersControl=True,\n",
        "               attributeControl = True\n",
        "                )\n",
        "m.add_basemap('SATELLITE')\n",
        "m.add_gdf(dallas, layer_name='Dallas Council Districts')\n",
        "m"
      ],
      "metadata": {
        "collapsed": true,
        "id": "QsMevG2nXFeq"
      },
      "execution_count": null,
      "outputs": []
    },
    {
      "cell_type": "code",
      "source": [
        "bbox= m.user_roi_bounds()"
      ],
      "metadata": {
        "id": "XC8BjhfsaVVG"
      },
      "execution_count": null,
      "outputs": []
    },
    {
      "cell_type": "code",
      "source": [
        "m.user_roi_bounds()"
      ],
      "metadata": {
        "id": "jNCX-dM1wgvz"
      },
      "execution_count": null,
      "outputs": []
    },
    {
      "cell_type": "code",
      "source": [
        "image = 'CBD_sample.tif'\n",
        "tms_to_geotiff(output=image, bbox=bbox, zoom=20, source='Satellite', overwrite=True)"
      ],
      "metadata": {
        "collapsed": true,
        "id": "KyQQcSMTb_ME"
      },
      "execution_count": null,
      "outputs": []
    },
    {
      "cell_type": "code",
      "source": [
        "m.layers[-1].visible = False\n",
        "m.add_raster(image, layer_name='CBD_sample.tif')\n",
        "m"
      ],
      "metadata": {
        "collapsed": true,
        "id": "koamkZ4sdVyo"
      },
      "execution_count": null,
      "outputs": []
    },
    {
      "cell_type": "code",
      "source": [
        "sam = SamGeo(\n",
        "    model_type=\"vit_h\",\n",
        "    sam_kwargs=None,\n",
        ")"
      ],
      "metadata": {
        "id": "7FTVq0VOjaWr"
      },
      "execution_count": null,
      "outputs": []
    },
    {
      "cell_type": "code",
      "source": [
        "image = \"CBD_sample.tif\"\n",
        "sam.generate(image, output=\"masks.tif\", foreground=True, unique=True)"
      ],
      "metadata": {
        "id": "hefgyn_ykT0F"
      },
      "execution_count": null,
      "outputs": []
    },
    {
      "cell_type": "code",
      "source": [
        "sam.show_masks(cmap=\"binary_r\")"
      ],
      "metadata": {
        "id": "dbWcrSRio-AJ"
      },
      "execution_count": null,
      "outputs": []
    },
    {
      "cell_type": "code",
      "source": [
        "sam.show_anns(axis='off', alpha=1, output= \"annotations.tif\")"
      ],
      "metadata": {
        "id": "smy4pDqRuA6t"
      },
      "execution_count": null,
      "outputs": []
    },
    {
      "cell_type": "code",
      "source": [
        "leafmap.image_comparison(\n",
        "    \"CBD_sample.tif\",\n",
        "    \"annotations.tif\",\n",
        "    label1 = \"Satellite\",\n",
        "    label2 = \"Image Segmentation\"\n",
        ")"
      ],
      "metadata": {
        "id": "k228KDfIuOo1"
      },
      "execution_count": null,
      "outputs": []
    },
    {
      "cell_type": "code",
      "source": [
        "m.add_raster(\"annotations.tif\", alpha=0.5, layer_name=\"Masks\")\n",
        "m"
      ],
      "metadata": {
        "id": "yD61TgQwuxvF"
      },
      "execution_count": null,
      "outputs": []
    },
    {
      "cell_type": "code",
      "source": [
        "sam.tiff_to_vector(\"masks.tif\", \"masks.shp\")"
      ],
      "metadata": {
        "id": "To0huVf7vR-w"
      },
      "execution_count": null,
      "outputs": []
    },
    {
      "cell_type": "code",
      "source": [
        "\n",
        "m.add_shp(\"masks.shp\")\n",
        "m"
      ],
      "metadata": {
        "id": "TI-EAwc2veBu"
      },
      "execution_count": null,
      "outputs": []
    },
    {
      "cell_type": "code",
      "source": [],
      "metadata": {
        "id": "qtxnkXL3vp_H"
      },
      "execution_count": null,
      "outputs": []
    }
  ]
}