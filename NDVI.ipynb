{
  "nbformat": 4,
  "nbformat_minor": 0,
  "metadata": {
    "colab": {
      "provenance": [],
      "authorship_tag": "ABX9TyPin5DVfXF3eTrJkoYi6cOg",
      "include_colab_link": true
    },
    "kernelspec": {
      "name": "python3",
      "display_name": "Python 3"
    },
    "language_info": {
      "name": "python"
    }
  },
  "cells": [
    {
      "cell_type": "markdown",
      "metadata": {
        "id": "view-in-github",
        "colab_type": "text"
      },
      "source": [
        "<a href=\"https://colab.research.google.com/github/yuan7220/ESS/blob/main/NDVI.ipynb\" target=\"_parent\"><img src=\"https://colab.research.google.com/assets/colab-badge.svg\" alt=\"Open In Colab\"/></a>"
      ]
    },
    {
      "cell_type": "code",
      "source": [
        "import ee\n",
        "import geemap\n",
        "import leafmap\n",
        "ee.Authenticate()\n",
        "ee.Initialize(project='ess-ex1')"
      ],
      "metadata": {
        "id": "UgccPK_fyZy-"
      },
      "execution_count": null,
      "outputs": []
    },
    {
      "cell_type": "code",
      "metadata": {
        "id": "e020b3c1"
      },
      "source": [
        "# Replace open the asset ID after uploading the shapefile\n",
        "Dallas = ee.FeatureCollection('projects/ess-ex1/assets/dallas')\n",
        "Dallas_poly = Dallas.geometry().bounds()\n"
      ],
      "execution_count": null,
      "outputs": []
    },
    {
      "cell_type": "code",
      "source": [
        "# Applies scaling factors.\n",
        "# Landsat Level 2 data requires scaling factors to convert raw digital numbers to surface reflectance and brightness temperature.\n",
        "def apply_scale_factors(image):\n",
        "  optical_bands = image.select('SR_B.').multiply(0.0000275).add(-0.2)\n",
        "  thermal_bands = image.select('ST_B.*').multiply(0.00341802).add(149.0)\n",
        "  return image.addBands(optical_bands, None, True).addBands(\n",
        "      thermal_bands, None, True\n",
        "  )"
      ],
      "metadata": {
        "id": "Z1LKyuWpa4w1"
      },
      "execution_count": null,
      "outputs": []
    },
    {
      "cell_type": "code",
      "source": [
        "# create masks for cloud and cloud shadows\n",
        "def mask_clouds(image):\n",
        "    qa = image.select('QA_PIXEL')\n",
        "    # Bits 3 and 5 are cloud shadow and cloud, respectively.\n",
        "    # Bit 3: Cloud Shadow (0 = No, 1 = Yes)\n",
        "    # Bit 5: Cloud (0 = No, 1 = Yes)\n",
        "    cloud_shadow_mask = qa.bitwiseAnd(1 << 3).eq(0)\n",
        "    cloud_mask = qa.bitwiseAnd(1 << 5).eq(0)\n",
        "    # Combine masks and apply to the image.\n",
        "    mask = cloud_shadow_mask.And(cloud_mask)\n",
        "    return image.updateMask(mask)"
      ],
      "metadata": {
        "id": "lJY-vH_Xff9n"
      },
      "execution_count": null,
      "outputs": []
    },
    {
      "cell_type": "code",
      "source": [
        "col22 = ee.ImageCollection('LANDSAT/LC09/C02/T1_L2').filterBounds(Dallas_poly).filterDate('2022-01-01', '2022-12-31')\n",
        "col24 = ee.ImageCollection('LANDSAT/LC09/C02/T1_L2').filterBounds(Dallas_poly).filterDate('2024-01-01', '2024-12-31')\n",
        "\n",
        "aoi = Dallas_poly\n",
        "\n",
        "Dallas_22 = col22.map(lambda image: image.clip(aoi))\n",
        "Dallas_24 = col24.map(lambda image: image.clip(aoi))\n",
        "\n",
        "# create cloud free images\n",
        "masked_Dallas22 = Dallas_22.map(mask_clouds)\n",
        "masked_Dallas24 = Dallas_24.map(mask_clouds)\n",
        "\n",
        "# scale data for surface reflectance\n",
        "Dallas22_scaled = masked_Dallas22.map(apply_scale_factors)\n",
        "Dallas24_scaled = masked_Dallas24.map(apply_scale_factors)\n"
      ],
      "metadata": {
        "id": "S7k0mL6WZecy"
      },
      "execution_count": null,
      "outputs": []
    },
    {
      "cell_type": "code",
      "source": [],
      "metadata": {
        "id": "EoXeDLU5feS4"
      },
      "execution_count": null,
      "outputs": []
    },
    {
      "cell_type": "code",
      "source": [
        "# The NormalizedDifference Vegetation Index (NDVI) is calculated using the Near-Infrared (NIR) and Red bands.\n",
        "# For Landsat 9, these are Band 5 (NIR) and Band 4 (Red). GEE provides a built-in normalizedDifference function.\n",
        "\n",
        "def add_ndvi(image):\n",
        "    ndvi = image.normalizedDifference(['SR_B5', 'SR_B4']).rename('NDVI')\n",
        "    return image.addBands(ndvi)\n",
        "\n",
        "Dallas22_ndvi = Dallas22_scaled.map(add_ndvi)\n",
        "Dallas24_ndvi = Dallas24_scaled.map(add_ndvi)\n"
      ],
      "metadata": {
        "id": "i-QdshnXYbcx"
      },
      "execution_count": null,
      "outputs": []
    },
    {
      "cell_type": "code",
      "source": [
        "# Select a single image or create a composite\n",
        "# Example: Take the median composite of the collection\n",
        "Dallas22_ndvi_median = Dallas22_ndvi.select('NDVI').median()\n",
        "Dallas24_ndvi_median = Dallas24_ndvi.select('NDVI').median()\n",
        "\n",
        "# Define visualization parameters for NDVI\n",
        "ndvi_palette = ['cyan', 'orange', 'yellow', 'green', 'darkgreen']\n",
        "ndvi_vis_params = {'min': -0.1, 'max': 0.9, 'palette': ndvi_palette}\n",
        "\n",
        "# Add the NDVI layer to the map (if using ee.mapclient or similar)\n",
        "m = geemap.Map()\n",
        "m.centerObject(Dallas, 10)\n",
        "m.addLayer(Dallas22_ndvi_median, ndvi_vis_params, '2022 Landsat 9 NDVI')\n",
        "m.addLayer(Dallas24_ndvi_median, ndvi_vis_params, '2024 Landsat 9 NDVI')\n",
        "m"
      ],
      "metadata": {
        "collapsed": true,
        "id": "DtypJpAZdfaH"
      },
      "execution_count": null,
      "outputs": []
    },
    {
      "cell_type": "code",
      "source": [
        "m = geemap.Map(height='800px')\n",
        "m.centerObject(Dallas, 10)\n",
        "left_layer = geemap.ee_tile_layer(Dallas22_ndvi_median, ndvi_vis_params, '2022 NDVI')\n",
        "right_layer = geemap.ee_tile_layer(Dallas24_ndvi_median, ndvi_vis_params, '2024 NDVI')\n",
        "m.split_map(left_layer, right_layer)\n",
        "m"
      ],
      "metadata": {
        "collapsed": true,
        "id": "CBvmxWGDoFfI"
      },
      "execution_count": null,
      "outputs": []
    },
    {
      "cell_type": "code",
      "source": [
        "NDVI_diff = Dallas24_ndvi_median.subtract(Dallas22_ndvi_median)"
      ],
      "metadata": {
        "id": "CSlxkSPyq4L7"
      },
      "execution_count": null,
      "outputs": []
    },
    {
      "cell_type": "code",
      "source": [
        "print(NDVI_diff.getInfo())"
      ],
      "metadata": {
        "id": "kUyJdh9HrXfY"
      },
      "execution_count": null,
      "outputs": []
    },
    {
      "cell_type": "code",
      "source": [
        "ndvi_vis_params = {'min': -2, 'max': 2, 'palette': ndvi_palette}"
      ],
      "metadata": {
        "id": "TkDeqA5rrnUg"
      },
      "execution_count": null,
      "outputs": []
    },
    {
      "cell_type": "code",
      "source": [
        "m=geemap.Map(height='800px')\n",
        "m.centerObject(Dallas, 10)\n",
        "m.addLayer(NDVI_diff, ndvi_vis_params, 'NDVI difference')\n",
        "m"
      ],
      "metadata": {
        "collapsed": true,
        "id": "D80LBp33q8SN"
      },
      "execution_count": null,
      "outputs": []
    }
  ]
}